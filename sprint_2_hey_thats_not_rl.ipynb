{
 "cells": [
  {
   "cell_type": "markdown",
   "metadata": {},
   "source": [
    "Hey there welcome to sprint demo #2!\n",
    "\n",
    "I'm assuming you've read the readme and sprint #1. If you have experience with reinforcement learning, I'm sure you're thinking \"Hey... that doesn't look like RL\" and you're right, it doesn't! This sprint I'm going to be refactoring the sprint 1 code into a more traditional RL format. \n",
    "\n",
    "If you've seen this picture - \n",
    "\n",
    "![reinforcement learning](https://www.kdnuggets.com/images/reinforcement-learning-fig1-700.jpg)\n",
    "\n",
    "that's basically the idea.\n",
    "\n",
    "First off, lets start with a stereotypical example, openai gym's lunar landar starter code, copied from https://www.gymlibrary.ml/ \n",
    "\n",
    "Note that this toy example doesn't include any *learning* quite yet - our policy, the way our agent makes decisions, is just randomly sampling from its action space. In a real RL example we would have some learning algorithm updating the policy to maximize rewards, however for now this serves as \n"
   ]
  },
  {
   "cell_type": "code",
   "execution_count": 8,
   "metadata": {},
   "outputs": [],
   "source": [
    "import gym\n",
    "env = gym.make(\"LunarLander-v2\")\n",
    "policy = lambda x: env.action_space.sample() # Random polcy \n",
    "\n",
    "observation, info = env.reset(seed=42, return_info=True)\n",
    "\n",
    "for _ in range(1000):\n",
    "   env.render()\n",
    "   action = policy(observation)\n",
    "   observation, reward, done, info = env.step(action)\n",
    "\n",
    "   if done:\n",
    "      observation, info = env.reset(return_info=True)\n",
    "\n",
    "env.close()"
   ]
  },
  {
   "cell_type": "code",
   "execution_count": null,
   "metadata": {},
   "outputs": [],
   "source": []
  }
 ],
 "metadata": {
  "kernelspec": {
   "display_name": "Python 3.8.5 ('base')",
   "language": "python",
   "name": "python3"
  },
  "language_info": {
   "codemirror_mode": {
    "name": "ipython",
    "version": 3
   },
   "file_extension": ".py",
   "mimetype": "text/x-python",
   "name": "python",
   "nbconvert_exporter": "python",
   "pygments_lexer": "ipython3",
   "version": "3.8.5"
  },
  "orig_nbformat": 4,
  "vscode": {
   "interpreter": {
    "hash": "d4e12470a6bd1ddf239ef9d2cbb0fe9fada8c3415f77ba30801c7b104792fc14"
   }
  }
 },
 "nbformat": 4,
 "nbformat_minor": 2
}
